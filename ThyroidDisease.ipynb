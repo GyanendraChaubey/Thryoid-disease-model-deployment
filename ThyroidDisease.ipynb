{
  "cells": [
    {
      "cell_type": "code",
      "execution_count": 1,
      "metadata": {
        "id": "u579aJfVALvb"
      },
      "outputs": [],
      "source": [
        "import pandas as pd\n",
        "import numpy as np\n",
        "import matplotlib.pyplot as plt\n",
        "import seaborn as sns\n",
        "import warnings\n",
        "warnings.filterwarnings('ignore')"
      ]
    },
    {
      "cell_type": "code",
      "execution_count": 3,
      "metadata": {
        "id": "5FAZIPEzAQqp"
      },
      "outputs": [],
      "source": [
        "data = pd.read_csv(\"new-thyroid.data\")"
      ]
    },
    {
      "cell_type": "code",
      "execution_count": 4,
      "metadata": {
        "id": "nK0BfscGBIT3"
      },
      "outputs": [],
      "source": [
        "row1=list(data.columns)"
      ]
    },
    {
      "cell_type": "code",
      "execution_count": 5,
      "metadata": {
        "colab": {
          "base_uri": "https://localhost:8080/"
        },
        "id": "4f6kvw1ECDIt",
        "outputId": "c620261d-7847-47a8-ddfd-403f34d3af0a"
      },
      "outputs": [
        {
          "data": {
            "text/plain": [
              "['1', '107', '10.1', '2.2', '0.9', '2.7']"
            ]
          },
          "execution_count": 5,
          "metadata": {},
          "output_type": "execute_result"
        }
      ],
      "source": [
        "row1"
      ]
    },
    {
      "cell_type": "code",
      "execution_count": 6,
      "metadata": {
        "id": "S9lK4M9AAgvq"
      },
      "outputs": [],
      "source": [
        "data.columns=['class','T3-resin uptake test','Total Serum thyroxin','Total serum triiodothyronine','basal thyroid-stimulating hormone (TSH)','Maximal absolute difference of TSH']"
      ]
    },
    {
      "cell_type": "code",
      "execution_count": 7,
      "metadata": {
        "colab": {
          "base_uri": "https://localhost:8080/",
          "height": 223
        },
        "id": "1toGV1YmAd28",
        "outputId": "18978a87-528b-43eb-b8f1-d280750365d3"
      },
      "outputs": [
        {
          "data": {
            "text/html": [
              "<div>\n",
              "<style scoped>\n",
              "    .dataframe tbody tr th:only-of-type {\n",
              "        vertical-align: middle;\n",
              "    }\n",
              "\n",
              "    .dataframe tbody tr th {\n",
              "        vertical-align: top;\n",
              "    }\n",
              "\n",
              "    .dataframe thead th {\n",
              "        text-align: right;\n",
              "    }\n",
              "</style>\n",
              "<table border=\"1\" class=\"dataframe\">\n",
              "  <thead>\n",
              "    <tr style=\"text-align: right;\">\n",
              "      <th></th>\n",
              "      <th>class</th>\n",
              "      <th>T3-resin uptake test</th>\n",
              "      <th>Total Serum thyroxin</th>\n",
              "      <th>Total serum triiodothyronine</th>\n",
              "      <th>basal thyroid-stimulating hormone (TSH)</th>\n",
              "      <th>Maximal absolute difference of TSH</th>\n",
              "    </tr>\n",
              "  </thead>\n",
              "  <tbody>\n",
              "    <tr>\n",
              "      <th>0</th>\n",
              "      <td>1</td>\n",
              "      <td>113</td>\n",
              "      <td>9.9</td>\n",
              "      <td>3.1</td>\n",
              "      <td>2.0</td>\n",
              "      <td>5.9</td>\n",
              "    </tr>\n",
              "    <tr>\n",
              "      <th>1</th>\n",
              "      <td>1</td>\n",
              "      <td>127</td>\n",
              "      <td>12.9</td>\n",
              "      <td>2.4</td>\n",
              "      <td>1.4</td>\n",
              "      <td>0.6</td>\n",
              "    </tr>\n",
              "    <tr>\n",
              "      <th>2</th>\n",
              "      <td>1</td>\n",
              "      <td>109</td>\n",
              "      <td>5.3</td>\n",
              "      <td>1.6</td>\n",
              "      <td>1.4</td>\n",
              "      <td>1.5</td>\n",
              "    </tr>\n",
              "    <tr>\n",
              "      <th>3</th>\n",
              "      <td>1</td>\n",
              "      <td>105</td>\n",
              "      <td>7.3</td>\n",
              "      <td>1.5</td>\n",
              "      <td>1.5</td>\n",
              "      <td>-0.1</td>\n",
              "    </tr>\n",
              "    <tr>\n",
              "      <th>4</th>\n",
              "      <td>1</td>\n",
              "      <td>105</td>\n",
              "      <td>6.1</td>\n",
              "      <td>2.1</td>\n",
              "      <td>1.4</td>\n",
              "      <td>7.0</td>\n",
              "    </tr>\n",
              "  </tbody>\n",
              "</table>\n",
              "</div>"
            ],
            "text/plain": [
              "   class  T3-resin uptake test  Total Serum thyroxin  \\\n",
              "0      1                   113                   9.9   \n",
              "1      1                   127                  12.9   \n",
              "2      1                   109                   5.3   \n",
              "3      1                   105                   7.3   \n",
              "4      1                   105                   6.1   \n",
              "\n",
              "   Total serum triiodothyronine  basal thyroid-stimulating hormone (TSH)  \\\n",
              "0                           3.1                                      2.0   \n",
              "1                           2.4                                      1.4   \n",
              "2                           1.6                                      1.4   \n",
              "3                           1.5                                      1.5   \n",
              "4                           2.1                                      1.4   \n",
              "\n",
              "   Maximal absolute difference of TSH  \n",
              "0                                 5.9  \n",
              "1                                 0.6  \n",
              "2                                 1.5  \n",
              "3                                -0.1  \n",
              "4                                 7.0  "
            ]
          },
          "execution_count": 7,
          "metadata": {},
          "output_type": "execute_result"
        }
      ],
      "source": [
        "data.head()"
      ]
    },
    {
      "cell_type": "code",
      "execution_count": 8,
      "metadata": {
        "id": "STHPvU-OAfRz"
      },
      "outputs": [],
      "source": [
        "df_new = pd.DataFrame({'col1':[row1[0]],'col2':[row1[1]],'col3':[row1[2]],'col4':[row1[3]],'col5':[row1[4]],'col6':[row1[5]]})"
      ]
    },
    {
      "cell_type": "code",
      "execution_count": 9,
      "metadata": {
        "id": "5VdA0jRbDf7d"
      },
      "outputs": [],
      "source": [
        "df_new.columns=['class','T3-resin uptake test','Total Serum thyroxin','Total serum triiodothyronine','basal thyroid-stimulating hormone (TSH)','Maximal absolute difference of TSH']"
      ]
    },
    {
      "cell_type": "code",
      "execution_count": 10,
      "metadata": {
        "id": "IXeBDp0CCvyS"
      },
      "outputs": [],
      "source": [
        "data = pd.concat([df_new,data], axis=0)"
      ]
    },
    {
      "cell_type": "code",
      "execution_count": 11,
      "metadata": {
        "colab": {
          "base_uri": "https://localhost:8080/",
          "height": 537
        },
        "id": "Ld1ed2HBC42w",
        "outputId": "a25fa02a-01f0-43f7-9528-9f3073e14ffb"
      },
      "outputs": [
        {
          "data": {
            "text/html": [
              "<div>\n",
              "<style scoped>\n",
              "    .dataframe tbody tr th:only-of-type {\n",
              "        vertical-align: middle;\n",
              "    }\n",
              "\n",
              "    .dataframe tbody tr th {\n",
              "        vertical-align: top;\n",
              "    }\n",
              "\n",
              "    .dataframe thead th {\n",
              "        text-align: right;\n",
              "    }\n",
              "</style>\n",
              "<table border=\"1\" class=\"dataframe\">\n",
              "  <thead>\n",
              "    <tr style=\"text-align: right;\">\n",
              "      <th></th>\n",
              "      <th>class</th>\n",
              "      <th>T3-resin uptake test</th>\n",
              "      <th>Total Serum thyroxin</th>\n",
              "      <th>Total serum triiodothyronine</th>\n",
              "      <th>basal thyroid-stimulating hormone (TSH)</th>\n",
              "      <th>Maximal absolute difference of TSH</th>\n",
              "    </tr>\n",
              "  </thead>\n",
              "  <tbody>\n",
              "    <tr>\n",
              "      <th>0</th>\n",
              "      <td>1</td>\n",
              "      <td>107</td>\n",
              "      <td>10.1</td>\n",
              "      <td>2.2</td>\n",
              "      <td>0.9</td>\n",
              "      <td>2.7</td>\n",
              "    </tr>\n",
              "    <tr>\n",
              "      <th>0</th>\n",
              "      <td>1</td>\n",
              "      <td>113</td>\n",
              "      <td>9.9</td>\n",
              "      <td>3.1</td>\n",
              "      <td>2.0</td>\n",
              "      <td>5.9</td>\n",
              "    </tr>\n",
              "    <tr>\n",
              "      <th>1</th>\n",
              "      <td>1</td>\n",
              "      <td>127</td>\n",
              "      <td>12.9</td>\n",
              "      <td>2.4</td>\n",
              "      <td>1.4</td>\n",
              "      <td>0.6</td>\n",
              "    </tr>\n",
              "    <tr>\n",
              "      <th>2</th>\n",
              "      <td>1</td>\n",
              "      <td>109</td>\n",
              "      <td>5.3</td>\n",
              "      <td>1.6</td>\n",
              "      <td>1.4</td>\n",
              "      <td>1.5</td>\n",
              "    </tr>\n",
              "    <tr>\n",
              "      <th>3</th>\n",
              "      <td>1</td>\n",
              "      <td>105</td>\n",
              "      <td>7.3</td>\n",
              "      <td>1.5</td>\n",
              "      <td>1.5</td>\n",
              "      <td>-0.1</td>\n",
              "    </tr>\n",
              "    <tr>\n",
              "      <th>4</th>\n",
              "      <td>1</td>\n",
              "      <td>105</td>\n",
              "      <td>6.1</td>\n",
              "      <td>2.1</td>\n",
              "      <td>1.4</td>\n",
              "      <td>7.0</td>\n",
              "    </tr>\n",
              "    <tr>\n",
              "      <th>5</th>\n",
              "      <td>1</td>\n",
              "      <td>110</td>\n",
              "      <td>10.4</td>\n",
              "      <td>1.6</td>\n",
              "      <td>1.6</td>\n",
              "      <td>2.7</td>\n",
              "    </tr>\n",
              "    <tr>\n",
              "      <th>6</th>\n",
              "      <td>1</td>\n",
              "      <td>114</td>\n",
              "      <td>9.9</td>\n",
              "      <td>2.4</td>\n",
              "      <td>1.5</td>\n",
              "      <td>5.7</td>\n",
              "    </tr>\n",
              "    <tr>\n",
              "      <th>7</th>\n",
              "      <td>1</td>\n",
              "      <td>106</td>\n",
              "      <td>9.4</td>\n",
              "      <td>2.2</td>\n",
              "      <td>1.5</td>\n",
              "      <td>0.0</td>\n",
              "    </tr>\n",
              "    <tr>\n",
              "      <th>8</th>\n",
              "      <td>1</td>\n",
              "      <td>107</td>\n",
              "      <td>13.0</td>\n",
              "      <td>1.1</td>\n",
              "      <td>0.9</td>\n",
              "      <td>3.1</td>\n",
              "    </tr>\n",
              "    <tr>\n",
              "      <th>9</th>\n",
              "      <td>1</td>\n",
              "      <td>106</td>\n",
              "      <td>4.2</td>\n",
              "      <td>1.2</td>\n",
              "      <td>1.6</td>\n",
              "      <td>1.4</td>\n",
              "    </tr>\n",
              "    <tr>\n",
              "      <th>10</th>\n",
              "      <td>1</td>\n",
              "      <td>110</td>\n",
              "      <td>11.3</td>\n",
              "      <td>2.3</td>\n",
              "      <td>0.9</td>\n",
              "      <td>3.3</td>\n",
              "    </tr>\n",
              "    <tr>\n",
              "      <th>11</th>\n",
              "      <td>1</td>\n",
              "      <td>116</td>\n",
              "      <td>9.2</td>\n",
              "      <td>2.7</td>\n",
              "      <td>1.0</td>\n",
              "      <td>4.2</td>\n",
              "    </tr>\n",
              "    <tr>\n",
              "      <th>12</th>\n",
              "      <td>1</td>\n",
              "      <td>112</td>\n",
              "      <td>8.1</td>\n",
              "      <td>1.9</td>\n",
              "      <td>3.7</td>\n",
              "      <td>2.0</td>\n",
              "    </tr>\n",
              "    <tr>\n",
              "      <th>13</th>\n",
              "      <td>1</td>\n",
              "      <td>122</td>\n",
              "      <td>9.7</td>\n",
              "      <td>1.6</td>\n",
              "      <td>0.9</td>\n",
              "      <td>2.2</td>\n",
              "    </tr>\n",
              "  </tbody>\n",
              "</table>\n",
              "</div>"
            ],
            "text/plain": [
              "   class T3-resin uptake test Total Serum thyroxin  \\\n",
              "0      1                  107                 10.1   \n",
              "0      1                  113                  9.9   \n",
              "1      1                  127                 12.9   \n",
              "2      1                  109                  5.3   \n",
              "3      1                  105                  7.3   \n",
              "4      1                  105                  6.1   \n",
              "5      1                  110                 10.4   \n",
              "6      1                  114                  9.9   \n",
              "7      1                  106                  9.4   \n",
              "8      1                  107                 13.0   \n",
              "9      1                  106                  4.2   \n",
              "10     1                  110                 11.3   \n",
              "11     1                  116                  9.2   \n",
              "12     1                  112                  8.1   \n",
              "13     1                  122                  9.7   \n",
              "\n",
              "   Total serum triiodothyronine basal thyroid-stimulating hormone (TSH)  \\\n",
              "0                           2.2                                     0.9   \n",
              "0                           3.1                                     2.0   \n",
              "1                           2.4                                     1.4   \n",
              "2                           1.6                                     1.4   \n",
              "3                           1.5                                     1.5   \n",
              "4                           2.1                                     1.4   \n",
              "5                           1.6                                     1.6   \n",
              "6                           2.4                                     1.5   \n",
              "7                           2.2                                     1.5   \n",
              "8                           1.1                                     0.9   \n",
              "9                           1.2                                     1.6   \n",
              "10                          2.3                                     0.9   \n",
              "11                          2.7                                     1.0   \n",
              "12                          1.9                                     3.7   \n",
              "13                          1.6                                     0.9   \n",
              "\n",
              "   Maximal absolute difference of TSH  \n",
              "0                                 2.7  \n",
              "0                                 5.9  \n",
              "1                                 0.6  \n",
              "2                                 1.5  \n",
              "3                                -0.1  \n",
              "4                                 7.0  \n",
              "5                                 2.7  \n",
              "6                                 5.7  \n",
              "7                                 0.0  \n",
              "8                                 3.1  \n",
              "9                                 1.4  \n",
              "10                                3.3  \n",
              "11                                4.2  \n",
              "12                                2.0  \n",
              "13                                2.2  "
            ]
          },
          "execution_count": 11,
          "metadata": {},
          "output_type": "execute_result"
        }
      ],
      "source": [
        "data.head(15)"
      ]
    },
    {
      "cell_type": "code",
      "execution_count": 12,
      "metadata": {
        "colab": {
          "base_uri": "https://localhost:8080/"
        },
        "id": "Brg71w6ZIlhM",
        "outputId": "5dad9106-69c2-4c85-837f-77d39addec34"
      },
      "outputs": [
        {
          "name": "stdout",
          "output_type": "stream",
          "text": [
            "<class 'pandas.core.frame.DataFrame'>\n",
            "Int64Index: 215 entries, 0 to 213\n",
            "Data columns (total 6 columns):\n",
            " #   Column                                   Non-Null Count  Dtype \n",
            "---  ------                                   --------------  ----- \n",
            " 0   class                                    215 non-null    object\n",
            " 1   T3-resin uptake test                     215 non-null    object\n",
            " 2   Total Serum thyroxin                     215 non-null    object\n",
            " 3   Total serum triiodothyronine             215 non-null    object\n",
            " 4   basal thyroid-stimulating hormone (TSH)  215 non-null    object\n",
            " 5   Maximal absolute difference of TSH       215 non-null    object\n",
            "dtypes: object(6)\n",
            "memory usage: 11.8+ KB\n"
          ]
        }
      ],
      "source": [
        "data.info()"
      ]
    },
    {
      "cell_type": "code",
      "execution_count": 13,
      "metadata": {
        "id": "LkW0cot6I7Jk"
      },
      "outputs": [],
      "source": [
        "data = data.apply(pd.to_numeric, errors='coerce')"
      ]
    },
    {
      "cell_type": "code",
      "execution_count": 14,
      "metadata": {
        "colab": {
          "base_uri": "https://localhost:8080/"
        },
        "id": "xYfV7ABYJZcO",
        "outputId": "8a021782-fd78-4900-a852-4e0578d2e34a"
      },
      "outputs": [
        {
          "name": "stdout",
          "output_type": "stream",
          "text": [
            "<class 'pandas.core.frame.DataFrame'>\n",
            "Int64Index: 215 entries, 0 to 213\n",
            "Data columns (total 6 columns):\n",
            " #   Column                                   Non-Null Count  Dtype  \n",
            "---  ------                                   --------------  -----  \n",
            " 0   class                                    215 non-null    int64  \n",
            " 1   T3-resin uptake test                     215 non-null    int64  \n",
            " 2   Total Serum thyroxin                     215 non-null    float64\n",
            " 3   Total serum triiodothyronine             215 non-null    float64\n",
            " 4   basal thyroid-stimulating hormone (TSH)  215 non-null    float64\n",
            " 5   Maximal absolute difference of TSH       215 non-null    float64\n",
            "dtypes: float64(4), int64(2)\n",
            "memory usage: 11.8 KB\n"
          ]
        }
      ],
      "source": [
        "data.info()"
      ]
    },
    {
      "cell_type": "code",
      "execution_count": 15,
      "metadata": {
        "id": "60eaE8S2sTc2"
      },
      "outputs": [],
      "source": [
        "data['class']=data['class'].map({1:1,2:0,3:0})"
      ]
    },
    {
      "cell_type": "code",
      "execution_count": 16,
      "metadata": {
        "colab": {
          "base_uri": "https://localhost:8080/"
        },
        "id": "noueiaj6so8U",
        "outputId": "7020f2ce-28ac-48a5-8fcc-3b053448d5b2"
      },
      "outputs": [
        {
          "data": {
            "text/plain": [
              "1    150\n",
              "0     65\n",
              "Name: class, dtype: int64"
            ]
          },
          "execution_count": 16,
          "metadata": {},
          "output_type": "execute_result"
        }
      ],
      "source": [
        "data['class'].value_counts()"
      ]
    },
    {
      "cell_type": "code",
      "execution_count": 27,
      "metadata": {},
      "outputs": [
        {
          "data": {
            "text/html": [
              "<div>\n",
              "<style scoped>\n",
              "    .dataframe tbody tr th:only-of-type {\n",
              "        vertical-align: middle;\n",
              "    }\n",
              "\n",
              "    .dataframe tbody tr th {\n",
              "        vertical-align: top;\n",
              "    }\n",
              "\n",
              "    .dataframe thead th {\n",
              "        text-align: right;\n",
              "    }\n",
              "</style>\n",
              "<table border=\"1\" class=\"dataframe\">\n",
              "  <thead>\n",
              "    <tr style=\"text-align: right;\">\n",
              "      <th></th>\n",
              "      <th>class</th>\n",
              "      <th>T3-resin uptake test</th>\n",
              "      <th>Total Serum thyroxin</th>\n",
              "      <th>Total serum triiodothyronine</th>\n",
              "      <th>basal thyroid-stimulating hormone (TSH)</th>\n",
              "      <th>Maximal absolute difference of TSH</th>\n",
              "    </tr>\n",
              "  </thead>\n",
              "  <tbody>\n",
              "    <tr>\n",
              "      <th>count</th>\n",
              "      <td>215.000000</td>\n",
              "      <td>215.000000</td>\n",
              "      <td>215.000000</td>\n",
              "      <td>215.000000</td>\n",
              "      <td>215.000000</td>\n",
              "      <td>215.000000</td>\n",
              "    </tr>\n",
              "    <tr>\n",
              "      <th>mean</th>\n",
              "      <td>0.697674</td>\n",
              "      <td>109.595349</td>\n",
              "      <td>9.804651</td>\n",
              "      <td>2.050233</td>\n",
              "      <td>2.880000</td>\n",
              "      <td>4.199070</td>\n",
              "    </tr>\n",
              "    <tr>\n",
              "      <th>std</th>\n",
              "      <td>0.460337</td>\n",
              "      <td>13.145447</td>\n",
              "      <td>4.697362</td>\n",
              "      <td>1.419486</td>\n",
              "      <td>6.118031</td>\n",
              "      <td>8.070519</td>\n",
              "    </tr>\n",
              "    <tr>\n",
              "      <th>min</th>\n",
              "      <td>0.000000</td>\n",
              "      <td>65.000000</td>\n",
              "      <td>0.500000</td>\n",
              "      <td>0.200000</td>\n",
              "      <td>0.100000</td>\n",
              "      <td>-0.700000</td>\n",
              "    </tr>\n",
              "    <tr>\n",
              "      <th>25%</th>\n",
              "      <td>0.000000</td>\n",
              "      <td>103.000000</td>\n",
              "      <td>7.100000</td>\n",
              "      <td>1.350000</td>\n",
              "      <td>1.000000</td>\n",
              "      <td>0.550000</td>\n",
              "    </tr>\n",
              "    <tr>\n",
              "      <th>50%</th>\n",
              "      <td>1.000000</td>\n",
              "      <td>110.000000</td>\n",
              "      <td>9.200000</td>\n",
              "      <td>1.700000</td>\n",
              "      <td>1.300000</td>\n",
              "      <td>2.000000</td>\n",
              "    </tr>\n",
              "    <tr>\n",
              "      <th>75%</th>\n",
              "      <td>1.000000</td>\n",
              "      <td>117.500000</td>\n",
              "      <td>11.300000</td>\n",
              "      <td>2.200000</td>\n",
              "      <td>1.700000</td>\n",
              "      <td>4.100000</td>\n",
              "    </tr>\n",
              "    <tr>\n",
              "      <th>max</th>\n",
              "      <td>1.000000</td>\n",
              "      <td>144.000000</td>\n",
              "      <td>25.300000</td>\n",
              "      <td>10.000000</td>\n",
              "      <td>56.400000</td>\n",
              "      <td>56.300000</td>\n",
              "    </tr>\n",
              "  </tbody>\n",
              "</table>\n",
              "</div>"
            ],
            "text/plain": [
              "            class  T3-resin uptake test  Total Serum thyroxin  \\\n",
              "count  215.000000            215.000000            215.000000   \n",
              "mean     0.697674            109.595349              9.804651   \n",
              "std      0.460337             13.145447              4.697362   \n",
              "min      0.000000             65.000000              0.500000   \n",
              "25%      0.000000            103.000000              7.100000   \n",
              "50%      1.000000            110.000000              9.200000   \n",
              "75%      1.000000            117.500000             11.300000   \n",
              "max      1.000000            144.000000             25.300000   \n",
              "\n",
              "       Total serum triiodothyronine  basal thyroid-stimulating hormone (TSH)  \\\n",
              "count                    215.000000                               215.000000   \n",
              "mean                       2.050233                                 2.880000   \n",
              "std                        1.419486                                 6.118031   \n",
              "min                        0.200000                                 0.100000   \n",
              "25%                        1.350000                                 1.000000   \n",
              "50%                        1.700000                                 1.300000   \n",
              "75%                        2.200000                                 1.700000   \n",
              "max                       10.000000                                56.400000   \n",
              "\n",
              "       Maximal absolute difference of TSH  \n",
              "count                          215.000000  \n",
              "mean                             4.199070  \n",
              "std                              8.070519  \n",
              "min                             -0.700000  \n",
              "25%                              0.550000  \n",
              "50%                              2.000000  \n",
              "75%                              4.100000  \n",
              "max                             56.300000  "
            ]
          },
          "execution_count": 27,
          "metadata": {},
          "output_type": "execute_result"
        }
      ],
      "source": [
        "data.describe()"
      ]
    },
    {
      "cell_type": "markdown",
      "metadata": {
        "id": "DA66YWYRs6UZ"
      },
      "source": [
        "1: Normal and 0: Thyroid"
      ]
    },
    {
      "cell_type": "code",
      "execution_count": 17,
      "metadata": {
        "id": "V9x33IFkC9-k"
      },
      "outputs": [],
      "source": [
        "from sklearn.linear_model import LogisticRegression\n",
        "from sklearn.model_selection import train_test_split\n",
        "from sklearn.metrics import accuracy_score\n",
        "from sklearn.tree import DecisionTreeClassifier\n",
        "from sklearn.neighbors import KNeighborsClassifier"
      ]
    },
    {
      "cell_type": "code",
      "execution_count": 18,
      "metadata": {
        "id": "ILW0_MNcHTNp"
      },
      "outputs": [],
      "source": [
        "log= LogisticRegression()\n",
        "dt= DecisionTreeClassifier()\n",
        "knn= KNeighborsClassifier()"
      ]
    },
    {
      "cell_type": "code",
      "execution_count": 19,
      "metadata": {
        "id": "8A8BET-3HaLd"
      },
      "outputs": [],
      "source": [
        "x_train,x_test,y_train,y_test = train_test_split(data.iloc[:,1:],data.iloc[:,:1],random_state=42, test_size=0.3,)"
      ]
    },
    {
      "cell_type": "code",
      "execution_count": 20,
      "metadata": {
        "colab": {
          "base_uri": "https://localhost:8080/"
        },
        "id": "ITpMs4ZKHtEN",
        "outputId": "d936af66-314b-4c8b-ffd5-129fe85c0bcf"
      },
      "outputs": [
        {
          "name": "stdout",
          "output_type": "stream",
          "text": [
            "(150, 5) (150, 1) (65, 5) (65, 1)\n"
          ]
        }
      ],
      "source": [
        "print(x_train.shape,y_train.shape,x_test.shape,y_test.shape)"
      ]
    },
    {
      "cell_type": "code",
      "execution_count": 21,
      "metadata": {
        "colab": {
          "base_uri": "https://localhost:8080/",
          "height": 74
        },
        "id": "MI8fUTw-JbM6",
        "outputId": "7755ba2a-baf3-4f05-94a2-039009fad65f"
      },
      "outputs": [
        {
          "data": {
            "text/html": [
              "<style>#sk-container-id-1 {color: black;}#sk-container-id-1 pre{padding: 0;}#sk-container-id-1 div.sk-toggleable {background-color: white;}#sk-container-id-1 label.sk-toggleable__label {cursor: pointer;display: block;width: 100%;margin-bottom: 0;padding: 0.3em;box-sizing: border-box;text-align: center;}#sk-container-id-1 label.sk-toggleable__label-arrow:before {content: \"▸\";float: left;margin-right: 0.25em;color: #696969;}#sk-container-id-1 label.sk-toggleable__label-arrow:hover:before {color: black;}#sk-container-id-1 div.sk-estimator:hover label.sk-toggleable__label-arrow:before {color: black;}#sk-container-id-1 div.sk-toggleable__content {max-height: 0;max-width: 0;overflow: hidden;text-align: left;background-color: #f0f8ff;}#sk-container-id-1 div.sk-toggleable__content pre {margin: 0.2em;color: black;border-radius: 0.25em;background-color: #f0f8ff;}#sk-container-id-1 input.sk-toggleable__control:checked~div.sk-toggleable__content {max-height: 200px;max-width: 100%;overflow: auto;}#sk-container-id-1 input.sk-toggleable__control:checked~label.sk-toggleable__label-arrow:before {content: \"▾\";}#sk-container-id-1 div.sk-estimator input.sk-toggleable__control:checked~label.sk-toggleable__label {background-color: #d4ebff;}#sk-container-id-1 div.sk-label input.sk-toggleable__control:checked~label.sk-toggleable__label {background-color: #d4ebff;}#sk-container-id-1 input.sk-hidden--visually {border: 0;clip: rect(1px 1px 1px 1px);clip: rect(1px, 1px, 1px, 1px);height: 1px;margin: -1px;overflow: hidden;padding: 0;position: absolute;width: 1px;}#sk-container-id-1 div.sk-estimator {font-family: monospace;background-color: #f0f8ff;border: 1px dotted black;border-radius: 0.25em;box-sizing: border-box;margin-bottom: 0.5em;}#sk-container-id-1 div.sk-estimator:hover {background-color: #d4ebff;}#sk-container-id-1 div.sk-parallel-item::after {content: \"\";width: 100%;border-bottom: 1px solid gray;flex-grow: 1;}#sk-container-id-1 div.sk-label:hover label.sk-toggleable__label {background-color: #d4ebff;}#sk-container-id-1 div.sk-serial::before {content: \"\";position: absolute;border-left: 1px solid gray;box-sizing: border-box;top: 0;bottom: 0;left: 50%;z-index: 0;}#sk-container-id-1 div.sk-serial {display: flex;flex-direction: column;align-items: center;background-color: white;padding-right: 0.2em;padding-left: 0.2em;position: relative;}#sk-container-id-1 div.sk-item {position: relative;z-index: 1;}#sk-container-id-1 div.sk-parallel {display: flex;align-items: stretch;justify-content: center;background-color: white;position: relative;}#sk-container-id-1 div.sk-item::before, #sk-container-id-1 div.sk-parallel-item::before {content: \"\";position: absolute;border-left: 1px solid gray;box-sizing: border-box;top: 0;bottom: 0;left: 50%;z-index: -1;}#sk-container-id-1 div.sk-parallel-item {display: flex;flex-direction: column;z-index: 1;position: relative;background-color: white;}#sk-container-id-1 div.sk-parallel-item:first-child::after {align-self: flex-end;width: 50%;}#sk-container-id-1 div.sk-parallel-item:last-child::after {align-self: flex-start;width: 50%;}#sk-container-id-1 div.sk-parallel-item:only-child::after {width: 0;}#sk-container-id-1 div.sk-dashed-wrapped {border: 1px dashed gray;margin: 0 0.4em 0.5em 0.4em;box-sizing: border-box;padding-bottom: 0.4em;background-color: white;}#sk-container-id-1 div.sk-label label {font-family: monospace;font-weight: bold;display: inline-block;line-height: 1.2em;}#sk-container-id-1 div.sk-label-container {text-align: center;}#sk-container-id-1 div.sk-container {/* jupyter's `normalize.less` sets `[hidden] { display: none; }` but bootstrap.min.css set `[hidden] { display: none !important; }` so we also need the `!important` here to be able to override the default hidden behavior on the sphinx rendered scikit-learn.org. See: https://github.com/scikit-learn/scikit-learn/issues/21755 */display: inline-block !important;position: relative;}#sk-container-id-1 div.sk-text-repr-fallback {display: none;}</style><div id=\"sk-container-id-1\" class=\"sk-top-container\"><div class=\"sk-text-repr-fallback\"><pre>KNeighborsClassifier()</pre><b>In a Jupyter environment, please rerun this cell to show the HTML representation or trust the notebook. <br />On GitHub, the HTML representation is unable to render, please try loading this page with nbviewer.org.</b></div><div class=\"sk-container\" hidden><div class=\"sk-item\"><div class=\"sk-estimator sk-toggleable\"><input class=\"sk-toggleable__control sk-hidden--visually\" id=\"sk-estimator-id-1\" type=\"checkbox\" checked><label for=\"sk-estimator-id-1\" class=\"sk-toggleable__label sk-toggleable__label-arrow\">KNeighborsClassifier</label><div class=\"sk-toggleable__content\"><pre>KNeighborsClassifier()</pre></div></div></div></div></div>"
            ],
            "text/plain": [
              "KNeighborsClassifier()"
            ]
          },
          "execution_count": 21,
          "metadata": {},
          "output_type": "execute_result"
        }
      ],
      "source": [
        "log.fit(x_train,y_train)\n",
        "dt.fit(x_train,y_train)\n",
        "knn.fit(x_train,y_train)"
      ]
    },
    {
      "cell_type": "code",
      "execution_count": 22,
      "metadata": {
        "id": "uZk5PJ0CJ0qp"
      },
      "outputs": [],
      "source": [
        "y_pred_log = log.predict(x_test)\n",
        "y_pred_dt = dt.predict(x_test)\n",
        "y_pred_knn = knn.predict(x_test)"
      ]
    },
    {
      "cell_type": "code",
      "execution_count": 23,
      "metadata": {
        "colab": {
          "base_uri": "https://localhost:8080/"
        },
        "id": "0MS-itw3J5ME",
        "outputId": "d7a02f61-3387-4080-cefa-09c10e06bab4"
      },
      "outputs": [
        {
          "name": "stdout",
          "output_type": "stream",
          "text": [
            "0.9076923076923077\n",
            "0.9846153846153847\n",
            "0.9230769230769231\n"
          ]
        }
      ],
      "source": [
        "print(accuracy_score(y_test,y_pred_log))\n",
        "print(accuracy_score(y_test,y_pred_dt))\n",
        "print(accuracy_score(y_test,y_pred_knn))"
      ]
    },
    {
      "cell_type": "code",
      "execution_count": 24,
      "metadata": {
        "colab": {
          "base_uri": "https://localhost:8080/"
        },
        "id": "xT_rJdm4J-5t",
        "outputId": "d8f81d8e-69d9-4a58-98cc-78e5828ccfad"
      },
      "outputs": [
        {
          "name": "stdout",
          "output_type": "stream",
          "text": [
            "Logistic Regression: 0.8738095238095237\n",
            "KNN: 0.8595238095238095\n",
            "decision Tree: 0.9547619047619047\n"
          ]
        }
      ],
      "source": [
        "from sklearn.model_selection import cross_val_score\n",
        "print('Logistic Regression:',cross_val_score(log,x_test,y_test,cv=10).mean())\n",
        "print('KNN:',cross_val_score(knn,x_test,y_test,cv=10).mean())\n",
        "print('decision Tree:',cross_val_score(dt,x_test,y_test,cv=10).mean())"
      ]
    },
    {
      "cell_type": "code",
      "execution_count": 25,
      "metadata": {
        "id": "f10zzVysKwHJ"
      },
      "outputs": [],
      "source": [
        "import pickle\n",
        "pickle.dump(dt,open('thyroid_model.pkl','wb'))"
      ]
    },
    {
      "cell_type": "code",
      "execution_count": 26,
      "metadata": {
        "colab": {
          "base_uri": "https://localhost:8080/"
        },
        "id": "Gg5gkKQ1t5ek",
        "outputId": "76961f80-474e-4bc8-af1d-2f1b5cd1dde6"
      },
      "outputs": [
        {
          "name": "stdout",
          "output_type": "stream",
          "text": [
            "1.3.0\n"
          ]
        }
      ],
      "source": [
        "import sklearn\n",
        "print(sklearn.__version__)"
      ]
    }
  ],
  "metadata": {
    "colab": {
      "provenance": []
    },
    "kernelspec": {
      "display_name": "Python 3",
      "name": "python3"
    },
    "language_info": {
      "codemirror_mode": {
        "name": "ipython",
        "version": 3
      },
      "file_extension": ".py",
      "mimetype": "text/x-python",
      "name": "python",
      "nbconvert_exporter": "python",
      "pygments_lexer": "ipython3",
      "version": "3.11.4"
    }
  },
  "nbformat": 4,
  "nbformat_minor": 0
}
